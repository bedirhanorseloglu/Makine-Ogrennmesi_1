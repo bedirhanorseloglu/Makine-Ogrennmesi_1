{
 "cells": [
  {
   "cell_type": "markdown",
   "metadata": {},
   "source": [
    "Amacımız, model tahmin performansını artırmak.\n"
   ]
  },
  {
   "cell_type": "markdown",
   "metadata": {},
   "source": [
    "- Model Parametreleri -> Veriden öğrenilen parametreler\n",
    "\n",
    "- Model Hiperparametreleri -> Kullanıcı tarafından belirlenen ve veri ile optimize edilen parametrelerdir.\n",
    "\n",
    "- Parametre Tuning -> Modellerin performansını optimize etmek amacıyla kullanılan bir süreçtir. Modellerin performansı, içinde bulundukları duruma uygun parametrelerin seçilmesine bağlıdır. Bu parametreler, modelin davranışını kontrol eden ve eğitim sırasında ayarlanan değerlerdir.\n",
    "\n",
    "- Model Tuning -> Modellerinin performansını optimize etmek için yapılan bir süreçtir.  Bu süreç, modelin yapılandırılması, parametrelerin ayarlanması ve hiperparametrelerin optimize edilmesi ile ilgili değişiklikleri içerir. Amacı, modelin eğitim verileri üzerinde daha iyi performans göstermesini ve yeni veriler üzerinde de daha iyi genelleme yapmasını sağlamaktır."
   ]
  }
 ],
 "metadata": {
  "language_info": {
   "name": "python"
  },
  "orig_nbformat": 4
 },
 "nbformat": 4,
 "nbformat_minor": 2
}
